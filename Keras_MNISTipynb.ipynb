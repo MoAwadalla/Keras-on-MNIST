{
  "nbformat": 4,
  "nbformat_minor": 0,
  "metadata": {
    "colab": {
      "name": "Keras MNISTipynb",
      "provenance": [],
      "authorship_tag": "ABX9TyPN+OxHoax19FZLnDH4bgOF",
      "include_colab_link": true
    },
    "kernelspec": {
      "name": "python3",
      "display_name": "Python 3"
    },
    "accelerator": "TPU"
  },
  "cells": [
    {
      "cell_type": "markdown",
      "metadata": {
        "id": "view-in-github",
        "colab_type": "text"
      },
      "source": [
        "<a href=\"https://colab.research.google.com/github/MoAwadalla/Keras-on-MNIST/blob/master/Keras_MNISTipynb.ipynb\" target=\"_parent\"><img src=\"https://colab.research.google.com/assets/colab-badge.svg\" alt=\"Open In Colab\"/></a>"
      ]
    },
    {
      "cell_type": "markdown",
      "metadata": {
        "id": "CeXlb-8Dyfh2",
        "colab_type": "text"
      },
      "source": [
        "Imports"
      ]
    },
    {
      "cell_type": "code",
      "metadata": {
        "id": "lg2S7yT4wsiW",
        "colab_type": "code",
        "outputId": "a2a53688-d953-4626-d959-48e24c5c6834",
        "colab": {
          "base_uri": "https://localhost:8080/",
          "height": 34
        }
      },
      "source": [
        "import numpy as np\n",
        "from keras.models import Sequential\n",
        "from keras.layers import Dense, Dropout, Activation\n",
        "from keras.datasets import mnist\n",
        "(x_train, y_train), (x_test, y_test) = mnist.load_data()\n",
        "from keras.utils import to_categorical\n"
      ],
      "execution_count": 0,
      "outputs": [
        {
          "output_type": "stream",
          "text": [
            "Using TensorFlow backend.\n"
          ],
          "name": "stderr"
        }
      ]
    },
    {
      "cell_type": "markdown",
      "metadata": {
        "id": "wknRXqa3yhE2",
        "colab_type": "text"
      },
      "source": [
        "Quick look at data"
      ]
    },
    {
      "cell_type": "code",
      "metadata": {
        "id": "VRlvnIGnxEUI",
        "colab_type": "code",
        "outputId": "66f446cb-9ce3-4a57-ff17-c94cfea7744b",
        "colab": {
          "base_uri": "https://localhost:8080/",
          "height": 51
        }
      },
      "source": [
        "print(x_train.ndim)\n",
        "print(x_train.shape)"
      ],
      "execution_count": 0,
      "outputs": [
        {
          "output_type": "stream",
          "text": [
            "3\n",
            "(60000, 28, 28)\n"
          ],
          "name": "stdout"
        }
      ]
    },
    {
      "cell_type": "markdown",
      "metadata": {
        "id": "PjrlaxCfyd9l",
        "colab_type": "text"
      },
      "source": [
        "Normalize data"
      ]
    },
    {
      "cell_type": "code",
      "metadata": {
        "id": "nBhU0ZyvxYv1",
        "colab_type": "code",
        "colab": {}
      },
      "source": [
        "x_train = x_train.astype('float32')\n",
        "x_test = x_test.astype('float32')\n",
        "\n",
        "x_train /= 255\n",
        "x_test /= 255"
      ],
      "execution_count": 0,
      "outputs": []
    },
    {
      "cell_type": "markdown",
      "metadata": {
        "id": "wPtk1a7NyZkW",
        "colab_type": "text"
      },
      "source": [
        "Transform image from 2d to 1d"
      ]
    },
    {
      "cell_type": "code",
      "metadata": {
        "id": "kxhHgE7Ux_3u",
        "colab_type": "code",
        "colab": {}
      },
      "source": [
        "x_train = x_train.reshape(60000, 784)\n",
        "x_test = x_test.reshape(10000, 784)\n",
        "#784 because the images are a 28x28 matrix"
      ],
      "execution_count": 0,
      "outputs": []
    },
    {
      "cell_type": "markdown",
      "metadata": {
        "id": "4kFfqtmVymP8",
        "colab_type": "text"
      },
      "source": [
        "Categorize Y values"
      ]
    },
    {
      "cell_type": "code",
      "metadata": {
        "id": "LMz6f2HJyIjW",
        "colab_type": "code",
        "colab": {}
      },
      "source": [
        "y_train = to_categorical(y_train, num_classes=10)\n",
        "y_test = to_categorical(y_test, num_classes=10)"
      ],
      "execution_count": 0,
      "outputs": []
    },
    {
      "cell_type": "markdown",
      "metadata": {
        "id": "vDnXxq-8ysGV",
        "colab_type": "text"
      },
      "source": [
        "Create and Compile Model"
      ]
    },
    {
      "cell_type": "code",
      "metadata": {
        "id": "3Inzzx4gyT7l",
        "colab_type": "code",
        "colab": {}
      },
      "source": [
        "model = Sequential()\n",
        "model.add(Dense(512, activation='relu', input_shape=(784,)))\n",
        "model.add(Dropout(0.2))\n",
        "model.add(Dense(512, activation='relu'))\n",
        "model.add(Dropout(0.2))\n",
        "model.add(Dense(10, activation='softmax'))\n",
        "\n",
        "model.compile(loss=\"categorical_crossentropy\", optimizer=\"adam\", metrics=['accuracy'])"
      ],
      "execution_count": 0,
      "outputs": []
    },
    {
      "cell_type": "markdown",
      "metadata": {
        "id": "dYLRNyqK0OpN",
        "colab_type": "text"
      },
      "source": [
        "Training the model"
      ]
    },
    {
      "cell_type": "code",
      "metadata": {
        "id": "m8tBaomxz9pa",
        "colab_type": "code",
        "outputId": "484aa104-9e18-4a61-a8e9-cc47a41efa66",
        "colab": {
          "base_uri": "https://localhost:8080/",
          "height": 238
        }
      },
      "source": [
        "model.fit(x_train, y_train, batch_size=100, epochs=6)"
      ],
      "execution_count": 0,
      "outputs": [
        {
          "output_type": "stream",
          "text": [
            "Epoch 1/6\n",
            "60000/60000 [==============================] - 10s 162us/step - loss: 0.1833 - accuracy: 0.9450\n",
            "Epoch 2/6\n",
            "60000/60000 [==============================] - 10s 164us/step - loss: 0.0948 - accuracy: 0.9699\n",
            "Epoch 3/6\n",
            "60000/60000 [==============================] - 10s 161us/step - loss: 0.0684 - accuracy: 0.9783\n",
            "Epoch 4/6\n",
            "60000/60000 [==============================] - 10s 161us/step - loss: 0.0548 - accuracy: 0.9827\n",
            "Epoch 5/6\n",
            "60000/60000 [==============================] - 10s 160us/step - loss: 0.0459 - accuracy: 0.9855\n",
            "Epoch 6/6\n",
            "60000/60000 [==============================] - 10s 163us/step - loss: 0.0405 - accuracy: 0.9872\n"
          ],
          "name": "stdout"
        },
        {
          "output_type": "execute_result",
          "data": {
            "text/plain": [
              "<keras.callbacks.callbacks.History at 0x7f021cde3898>"
            ]
          },
          "metadata": {
            "tags": []
          },
          "execution_count": 10
        }
      ]
    },
    {
      "cell_type": "markdown",
      "metadata": {
        "id": "rwO8wWh638wR",
        "colab_type": "text"
      },
      "source": [
        "Evaluation"
      ]
    },
    {
      "cell_type": "code",
      "metadata": {
        "id": "Hi5vvU3F0UA9",
        "colab_type": "code",
        "outputId": "8582e06f-6320-485a-e993-db71d784c671",
        "colab": {
          "base_uri": "https://localhost:8080/",
          "height": 34
        }
      },
      "source": [
        "test_loss, test_acc = model.evaluate(x_test, y_test)"
      ],
      "execution_count": 0,
      "outputs": [
        {
          "output_type": "stream",
          "text": [
            "10000/10000 [==============================] - 1s 66us/step\n"
          ],
          "name": "stdout"
        }
      ]
    },
    {
      "cell_type": "code",
      "metadata": {
        "id": "I7xSs1X04CrG",
        "colab_type": "code",
        "outputId": "822afdf9-325a-4258-bee4-715c61601e1f",
        "colab": {
          "base_uri": "https://localhost:8080/",
          "height": 34
        }
      },
      "source": [
        "print('Test accuracy: ', test_acc)"
      ],
      "execution_count": 0,
      "outputs": [
        {
          "output_type": "stream",
          "text": [
            "Test accuracy:  0.9782000184059143\n"
          ],
          "name": "stdout"
        }
      ]
    },
    {
      "cell_type": "code",
      "metadata": {
        "id": "LAOnQKlo4Lo-",
        "colab_type": "code",
        "outputId": "03b80052-c544-4fba-afda-cbfe9514d0f8",
        "colab": {
          "base_uri": "https://localhost:8080/",
          "height": 34
        }
      },
      "source": [
        "##The following prediciton should give 6\n",
        "predictions = model.predict(x_test)\n",
        "np.argmax(predictions[11])"
      ],
      "execution_count": 0,
      "outputs": [
        {
          "output_type": "execute_result",
          "data": {
            "text/plain": [
              "6"
            ]
          },
          "metadata": {
            "tags": []
          },
          "execution_count": 16
        }
      ]
    },
    {
      "cell_type": "code",
      "metadata": {
        "id": "w5atn8Wq4VUO",
        "colab_type": "code",
        "outputId": "ef1f0e9e-dc80-4410-c0af-c2b1070f74a2",
        "colab": {
          "base_uri": "https://localhost:8080/",
          "height": 68
        }
      },
      "source": [
        "print(predictions[11])\n",
        "np.sum(predictions[11])"
      ],
      "execution_count": 0,
      "outputs": [
        {
          "output_type": "stream",
          "text": [
            "[2.2143882e-05 6.9155497e-08 2.4282762e-08 5.1681983e-08 1.3446733e-07\n",
            " 1.8379751e-05 9.9995387e-01 4.8175229e-07 4.8829338e-06 2.3926960e-08]\n"
          ],
          "name": "stdout"
        },
        {
          "output_type": "execute_result",
          "data": {
            "text/plain": [
              "1.0"
            ]
          },
          "metadata": {
            "tags": []
          },
          "execution_count": 18
        }
      ]
    },
    {
      "cell_type": "code",
      "metadata": {
        "id": "VsL3_GmX4iTG",
        "colab_type": "code",
        "colab": {}
      },
      "source": [
        ""
      ],
      "execution_count": 0,
      "outputs": []
    }
  ]
}