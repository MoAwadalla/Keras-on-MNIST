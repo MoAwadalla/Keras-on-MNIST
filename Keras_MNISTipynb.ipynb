{
  "nbformat": 4,
  "nbformat_minor": 0,
  "metadata": {
    "colab": {
      "name": "Keras MNISTipynb",
      "provenance": [],
      "authorship_tag": "ABX9TyN+zopxVnuVLJ3b3CvHaI6v",
      "include_colab_link": true
    },
    "kernelspec": {
      "name": "python3",
      "display_name": "Python 3"
    },
    "accelerator": "TPU"
  },
  "cells": [
    {
      "cell_type": "markdown",
      "metadata": {
        "id": "view-in-github",
        "colab_type": "text"
      },
      "source": [
        "<a href=\"https://colab.research.google.com/github/MoAwadalla/Keras-on-MNIST/blob/master/Keras_MNISTipynb.ipynb\" target=\"_parent\"><img src=\"https://colab.research.google.com/assets/colab-badge.svg\" alt=\"Open In Colab\"/></a>"
      ]
    },
    {
      "cell_type": "markdown",
      "metadata": {
        "id": "CeXlb-8Dyfh2",
        "colab_type": "text"
      },
      "source": [
        "Imports"
      ]
    },
    {
      "cell_type": "code",
      "metadata": {
        "id": "lg2S7yT4wsiW",
        "colab_type": "code",
        "outputId": "42787cf0-bd32-47bf-981a-ba8d224a854f",
        "colab": {
          "base_uri": "https://localhost:8080/",
          "height": 68
        }
      },
      "source": [
        "import numpy as np\n",
        "from keras.models import Sequential\n",
        "from keras.layers import Dense, Dropout, Activation\n",
        "from keras.datasets import mnist\n",
        "(x_train, y_train), (x_test, y_test) = mnist.load_data()\n",
        "from keras.utils import to_categorical\n"
      ],
      "execution_count": 1,
      "outputs": [
        {
          "output_type": "stream",
          "text": [
            "Using TensorFlow backend.\n"
          ],
          "name": "stderr"
        },
        {
          "output_type": "stream",
          "text": [
            "Downloading data from https://s3.amazonaws.com/img-datasets/mnist.npz\n",
            "11493376/11490434 [==============================] - 0s 0us/step\n"
          ],
          "name": "stdout"
        }
      ]
    },
    {
      "cell_type": "markdown",
      "metadata": {
        "id": "wknRXqa3yhE2",
        "colab_type": "text"
      },
      "source": [
        "Quick look at data"
      ]
    },
    {
      "cell_type": "code",
      "metadata": {
        "id": "VRlvnIGnxEUI",
        "colab_type": "code",
        "outputId": "b41c5ec3-5700-48ac-8afb-181c855a5df7",
        "colab": {
          "base_uri": "https://localhost:8080/",
          "height": 51
        }
      },
      "source": [
        "print(x_train.ndim)\n",
        "print(x_train.shape)"
      ],
      "execution_count": 2,
      "outputs": [
        {
          "output_type": "stream",
          "text": [
            "3\n",
            "(60000, 28, 28)\n"
          ],
          "name": "stdout"
        }
      ]
    },
    {
      "cell_type": "markdown",
      "metadata": {
        "id": "PjrlaxCfyd9l",
        "colab_type": "text"
      },
      "source": [
        "Normalize data"
      ]
    },
    {
      "cell_type": "code",
      "metadata": {
        "id": "nBhU0ZyvxYv1",
        "colab_type": "code",
        "colab": {}
      },
      "source": [
        "x_train = x_train.astype('float32')\n",
        "x_test = x_test.astype('float32')\n",
        "\n",
        "x_train /= 255\n",
        "x_test /= 255"
      ],
      "execution_count": 0,
      "outputs": []
    },
    {
      "cell_type": "markdown",
      "metadata": {
        "id": "wPtk1a7NyZkW",
        "colab_type": "text"
      },
      "source": [
        "Transform image from 2d to 1d"
      ]
    },
    {
      "cell_type": "code",
      "metadata": {
        "id": "kxhHgE7Ux_3u",
        "colab_type": "code",
        "colab": {}
      },
      "source": [
        "x_train = x_train.reshape(60000, 784)\n",
        "x_test = x_test.reshape(10000, 784)\n",
        "#784 because the images are a 28x28 matrix"
      ],
      "execution_count": 0,
      "outputs": []
    },
    {
      "cell_type": "markdown",
      "metadata": {
        "id": "4kFfqtmVymP8",
        "colab_type": "text"
      },
      "source": [
        "Categorize Y values"
      ]
    },
    {
      "cell_type": "code",
      "metadata": {
        "id": "LMz6f2HJyIjW",
        "colab_type": "code",
        "colab": {}
      },
      "source": [
        "y_train = to_categorical(y_train, num_classes=10)\n",
        "y_test = to_categorical(y_test, num_classes=10)"
      ],
      "execution_count": 0,
      "outputs": []
    },
    {
      "cell_type": "markdown",
      "metadata": {
        "id": "vDnXxq-8ysGV",
        "colab_type": "text"
      },
      "source": [
        "Create and Compile Model"
      ]
    },
    {
      "cell_type": "code",
      "metadata": {
        "id": "3Inzzx4gyT7l",
        "colab_type": "code",
        "colab": {}
      },
      "source": [
        "model = Sequential()\n",
        "model.add(Dense(512, activation='relu', input_shape=(784,)))\n",
        "model.add(Dropout(0.2))\n",
        "model.add(Dense(512, activation='relu'))\n",
        "model.add(Dropout(0.2))\n",
        "model.add(Dense(10, activation='softmax'))\n",
        "\n",
        "model.compile(loss=\"categorical_crossentropy\", optimizer=\"adam\", metrics=['accuracy'])"
      ],
      "execution_count": 0,
      "outputs": []
    },
    {
      "cell_type": "markdown",
      "metadata": {
        "id": "dYLRNyqK0OpN",
        "colab_type": "text"
      },
      "source": [
        "Training the model"
      ]
    },
    {
      "cell_type": "code",
      "metadata": {
        "id": "m8tBaomxz9pa",
        "colab_type": "code",
        "outputId": "aea2b4c5-c54a-4414-a9f1-f90ef4c311a7",
        "colab": {
          "base_uri": "https://localhost:8080/",
          "height": 442
        }
      },
      "source": [
        "model.fit(x_train, y_train, batch_size=100, epochs=12)"
      ],
      "execution_count": 7,
      "outputs": [
        {
          "output_type": "stream",
          "text": [
            "Epoch 1/12\n",
            "60000/60000 [==============================] - 10s 167us/step - loss: 0.2406 - accuracy: 0.9265\n",
            "Epoch 2/12\n",
            "60000/60000 [==============================] - 10s 166us/step - loss: 0.1000 - accuracy: 0.9694\n",
            "Epoch 3/12\n",
            "60000/60000 [==============================] - 10s 164us/step - loss: 0.0712 - accuracy: 0.9775\n",
            "Epoch 4/12\n",
            "60000/60000 [==============================] - 10s 166us/step - loss: 0.0567 - accuracy: 0.9815\n",
            "Epoch 5/12\n",
            "60000/60000 [==============================] - 10s 166us/step - loss: 0.0489 - accuracy: 0.9834\n",
            "Epoch 6/12\n",
            "60000/60000 [==============================] - 10s 163us/step - loss: 0.0416 - accuracy: 0.9869\n",
            "Epoch 7/12\n",
            "60000/60000 [==============================] - 10s 167us/step - loss: 0.0343 - accuracy: 0.9884\n",
            "Epoch 8/12\n",
            "60000/60000 [==============================] - 10s 165us/step - loss: 0.0316 - accuracy: 0.9894\n",
            "Epoch 9/12\n",
            "60000/60000 [==============================] - 10s 163us/step - loss: 0.0292 - accuracy: 0.9906\n",
            "Epoch 10/12\n",
            "60000/60000 [==============================] - 10s 165us/step - loss: 0.0266 - accuracy: 0.9914\n",
            "Epoch 11/12\n",
            "60000/60000 [==============================] - 10s 163us/step - loss: 0.0260 - accuracy: 0.9914\n",
            "Epoch 12/12\n",
            "60000/60000 [==============================] - 10s 166us/step - loss: 0.0245 - accuracy: 0.9922\n"
          ],
          "name": "stdout"
        },
        {
          "output_type": "execute_result",
          "data": {
            "text/plain": [
              "<keras.callbacks.callbacks.History at 0x7fbd9a8d5b70>"
            ]
          },
          "metadata": {
            "tags": []
          },
          "execution_count": 7
        }
      ]
    },
    {
      "cell_type": "markdown",
      "metadata": {
        "id": "rwO8wWh638wR",
        "colab_type": "text"
      },
      "source": [
        "Evaluation"
      ]
    },
    {
      "cell_type": "code",
      "metadata": {
        "id": "Hi5vvU3F0UA9",
        "colab_type": "code",
        "outputId": "1f6bf531-6845-42f7-be32-d66df0ed9cf3",
        "colab": {
          "base_uri": "https://localhost:8080/",
          "height": 34
        }
      },
      "source": [
        "test_loss, test_acc = model.evaluate(x_test, y_test)"
      ],
      "execution_count": 8,
      "outputs": [
        {
          "output_type": "stream",
          "text": [
            "10000/10000 [==============================] - 1s 68us/step\n"
          ],
          "name": "stdout"
        }
      ]
    },
    {
      "cell_type": "code",
      "metadata": {
        "id": "I7xSs1X04CrG",
        "colab_type": "code",
        "outputId": "ad1dd460-94cd-4734-f74d-a68f4e90399e",
        "colab": {
          "base_uri": "https://localhost:8080/",
          "height": 34
        }
      },
      "source": [
        "print('Test accuracy: ', test_acc)"
      ],
      "execution_count": 9,
      "outputs": [
        {
          "output_type": "stream",
          "text": [
            "Test accuracy:  0.9821000099182129\n"
          ],
          "name": "stdout"
        }
      ]
    },
    {
      "cell_type": "code",
      "metadata": {
        "id": "LAOnQKlo4Lo-",
        "colab_type": "code",
        "outputId": "a540b4c9-82fe-421c-dc70-ea07ccc316e3",
        "colab": {
          "base_uri": "https://localhost:8080/",
          "height": 34
        }
      },
      "source": [
        "##The following prediciton should give 6\n",
        "predictions = model.predict(x_test)\n",
        "np.argmax(predictions[11])"
      ],
      "execution_count": 10,
      "outputs": [
        {
          "output_type": "execute_result",
          "data": {
            "text/plain": [
              "6"
            ]
          },
          "metadata": {
            "tags": []
          },
          "execution_count": 10
        }
      ]
    },
    {
      "cell_type": "code",
      "metadata": {
        "id": "w5atn8Wq4VUO",
        "colab_type": "code",
        "outputId": "88c59af7-956f-4314-d7b2-a1f4868947e7",
        "colab": {
          "base_uri": "https://localhost:8080/",
          "height": 68
        }
      },
      "source": [
        "print(predictions[11])\n",
        "np.sum(predictions[11])"
      ],
      "execution_count": 11,
      "outputs": [
        {
          "output_type": "stream",
          "text": [
            "[1.2818864e-08 2.4387123e-11 7.2501835e-13 1.2509525e-12 3.2196530e-11\n",
            " 3.6169943e-06 9.9999619e-01 2.5523956e-12 1.9080254e-07 7.1252215e-14]\n"
          ],
          "name": "stdout"
        },
        {
          "output_type": "execute_result",
          "data": {
            "text/plain": [
              "1.0"
            ]
          },
          "metadata": {
            "tags": []
          },
          "execution_count": 11
        }
      ]
    },
    {
      "cell_type": "code",
      "metadata": {
        "id": "VsL3_GmX4iTG",
        "colab_type": "code",
        "colab": {}
      },
      "source": [
        ""
      ],
      "execution_count": 0,
      "outputs": []
    }
  ]
}